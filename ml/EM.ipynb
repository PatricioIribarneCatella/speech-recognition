{
 "cells": [
  {
   "cell_type": "code",
   "execution_count": 1,
   "metadata": {},
   "outputs": [],
   "source": [
    "import csv\n",
    "import random\n",
    "import numpy as np\n",
    "import matplotlib.pyplot as plt\n",
    "\n",
    "from numpy.linalg import eig, norm, det\n",
    "from scipy.linalg import inv\n",
    "from scipy.stats import multivariate_normal\n",
    "\n",
    "%matplotlib notebook"
   ]
  },
  {
   "cell_type": "code",
   "execution_count": 3,
   "metadata": {},
   "outputs": [],
   "source": [
    "def ellipse(sigma, mean, scale=1):\n",
    "    \n",
    "    d, v = eig(inv(sigma))\n",
    "    mat = v @ inv(np.sqrt(np.diag(d)))\n",
    "\n",
    "    N = 200\n",
    "    t = np.arange(0, N) * (2*np.pi) / N\n",
    "\n",
    "    Y1 = scale * np.cos(t)\n",
    "    Y2 = scale * np.sin(t)\n",
    "   \n",
    "    Y = np.array([Y1, Y2])\n",
    "\n",
    "    X = mat.dot(Y)\n",
    "\n",
    "    X1 = X[0]\n",
    "    X2 = X[1]\n",
    "\n",
    "    # move ellipse to mean_k\n",
    "    X1 = X1 + mean[0]\n",
    "    X2 = X2 + mean[1]\n",
    "    \n",
    "    return X1, X2"
   ]
  },
  {
   "cell_type": "code",
   "execution_count": 4,
   "metadata": {},
   "outputs": [],
   "source": [
    "def plot(samples, parameters):\n",
    "\n",
    "    sam_1 = samples[\"1\"]\n",
    "    sam_2 = samples[\"2\"]\n",
    "    sam_3 = samples[\"3\"]\n",
    "\n",
    "    data = (sam_1.T, sam_2.T, sam_3.T)\n",
    "    colors = (\"red\", \"green\", \"blue\")\n",
    "    groups = (\"1\", \"2\", \"3\")\n",
    "    scales = (2, 2, 2)\n",
    "\n",
    "    # Create plot\n",
    "    fig = plt.figure()\n",
    "    ax = fig.add_subplot(1, 1, 1)\n",
    "\n",
    "    for data, color, group in zip(data, colors, groups):\n",
    "        x, y = data\n",
    "        ax.scatter(x, y, alpha=0.8, c=color, edgecolors='none', s=30, label=group)\n",
    "\n",
    "    for color, group, scale in zip(colors, groups, scales):\n",
    "        X1, X2 = ellipse(parameters[\"sigma\"][group], parameters[\"mean\"][group], scale=scale)\n",
    "        ax.plot(X1, X2, c=color)\n",
    "    \n",
    "    plt.title('EM - 1,2,3')\n",
    "    plt.legend(loc=2)\n",
    "    plt.show()"
   ]
  },
  {
   "cell_type": "code",
   "execution_count": 5,
   "metadata": {},
   "outputs": [],
   "source": [
    "def get_random_means(train):\n",
    "\n",
    "    train_a = train[\"1\"]\n",
    "    train_o = train[\"2\"]\n",
    "    train_u = train[\"3\"]\n",
    "    \n",
    "    points_a = [train_a[random.randrange(0, len(train_a))] for i in range(5)]\n",
    "    points_o = [train_o[random.randrange(0, len(train_o))] for i in range(5)]\n",
    "    points_u = [train_u[random.randrange(0, len(train_u))] for i in range(5)]\n",
    "\n",
    "    data = {\n",
    "        \"1\": points_a,\n",
    "        \"2\": points_o,\n",
    "        \"3\": points_u\n",
    "    }\n",
    "    \n",
    "    means = [\n",
    "        np.mean(points_a, axis=0),\n",
    "        np.mean(points_o, axis=0),\n",
    "        np.mean(points_u, axis=0)\n",
    "    ]\n",
    "    \n",
    "    return means, data"
   ]
  },
  {
   "cell_type": "code",
   "execution_count": 6,
   "metadata": {},
   "outputs": [],
   "source": [
    "def get_sigma(data):\n",
    "\n",
    "    d1 = data[\"1\"]\n",
    "    d2 = data[\"2\"]\n",
    "    d3 = data[\"3\"]\n",
    "    \n",
    "    return (1/3) * (np.cov(d1, rowvar=False) + np.cov(d2, rowvar=False) + np.cov(d2, rowvar=False))"
   ]
  },
  {
   "cell_type": "code",
   "execution_count": 7,
   "metadata": {},
   "outputs": [],
   "source": [
    "def parse():\n",
    "\n",
    "    # parse data\n",
    "    with open('a.txt') as f:\n",
    "        lines_a = list(csv.reader(f, delimiter='\\t'))\n",
    "\n",
    "    with open('o.txt') as f:\n",
    "        lines_o = list(csv.reader(f, delimiter='\\t'))\n",
    "\n",
    "    with open('u.txt') as f:\n",
    "        lines_u = list(csv.reader(f, delimiter='\\t'))\n",
    "\n",
    "    lines_a = list(map(lambda x: [int(x[0]), int(x[1])],lines_a))\n",
    "    lines_o = list(map(lambda x: [int(x[0]), int(x[1])],lines_o))\n",
    "    lines_u = list(map(lambda x: [int(x[0]), int(x[1])],lines_u))\n",
    "\n",
    "    # separate 'train' and 'test' datasets\n",
    "    train_a = np.array(lines_a[:35])\n",
    "    test_a = np.array(lines_a[35:])\n",
    "    \n",
    "    train_o = np.array(lines_o[:35])\n",
    "    test_o = np.array(lines_o[35:])\n",
    "    \n",
    "    train_u = np.array(lines_u[:35])\n",
    "    test_u = np.array(lines_u[35:])\n",
    "    \n",
    "    samples = np.array(list(train_a) + list(train_o) + list(train_u))\n",
    "    \n",
    "    data = {\n",
    "        \"train\": {\n",
    "            \"1\": train_a,\n",
    "            \"2\": train_o,\n",
    "            \"3\": train_u\n",
    "        },\n",
    "        \"test\": {\n",
    "            \"1\": test_a,\n",
    "            \"2\": test_o,\n",
    "            \"3\": test_u\n",
    "        }\n",
    "    }\n",
    "    \n",
    "    return samples, data"
   ]
  },
  {
   "cell_type": "code",
   "execution_count": 8,
   "metadata": {},
   "outputs": [],
   "source": [
    "samples, datasets = parse()"
   ]
  },
  {
   "cell_type": "markdown",
   "metadata": {},
   "source": [
    "## EM"
   ]
  },
  {
   "cell_type": "code",
   "execution_count": 14,
   "metadata": {},
   "outputs": [],
   "source": [
    "def cacl_L(samples, means, sigmas, pi):\n",
    "    x = samples\n",
    "    return sum([log(sum([multivariate_normal.pdf(x[n], mean=means[k], cov=sigmas[k])*pi[k] for k in range(3)])) for n in range(len(samples))])"
   ]
  },
  {
   "cell_type": "code",
   "execution_count": 22,
   "metadata": {},
   "outputs": [],
   "source": [
    "def calc_means(samples, gammas, den):\n",
    "    #TODO\n",
    "    return 0"
   ]
  },
  {
   "cell_type": "code",
   "execution_count": 23,
   "metadata": {},
   "outputs": [],
   "source": [
    "def calc_sigmas(samples, means, gammas, den):\n",
    "    #TODO\n",
    "    return 0"
   ]
  },
  {
   "cell_type": "code",
   "execution_count": 24,
   "metadata": {},
   "outputs": [],
   "source": [
    "def calc_pi(den, N):\n",
    "    #TODO\n",
    "    return 0"
   ]
  },
  {
   "cell_type": "code",
   "execution_count": 25,
   "metadata": {},
   "outputs": [],
   "source": [
    "def calc_denom(samples, gammas):\n",
    "    #TODO\n",
    "    return 0"
   ]
  },
  {
   "cell_type": "code",
   "execution_count": 9,
   "metadata": {},
   "outputs": [],
   "source": [
    "def gamma(sample, means, sigmas, pi):\n",
    "    \n",
    "    nums = np.array([multivariate_normal.pdf(sample, mean=means[k], cov=sigmas[k])*pi[k] for k in range(3)])\n",
    "\n",
    "    den = nums.sum()\n",
    "    \n",
    "    return nums/den"
   ]
  },
  {
   "cell_type": "code",
   "execution_count": 21,
   "metadata": {},
   "outputs": [],
   "source": [
    "def em(samples, means, sigmas, pi):\n",
    "\n",
    "    L[0] = 0.0\n",
    "    L[1] = calc_L(samples, means, sigmas, pi)\n",
    "    deltaL = L[1] - L[0]\n",
    "    \n",
    "    while abs(deltaL) > 0.01:\n",
    "\n",
    "        ############\n",
    "        # 'E' step #\n",
    "        ############\n",
    "        gammas = np.array([gamma(samples[i], means, sigmas, pi) for i in range(len(samples))])\n",
    "\n",
    "        ############\n",
    "        # 'M' step #\n",
    "        ############\n",
    "        \n",
    "        # calc denominator\n",
    "        den = calc_denom(samples, gammas)\n",
    "        \n",
    "        # calc new means\n",
    "        means = calc_means(samples, gammas, den)\n",
    "\n",
    "        # calc new sigmas\n",
    "        sigmas = calc_sigmas(samples, means, gammas, den)\n",
    "\n",
    "        # calc new pi\n",
    "        pi = calc_pi(den, len(samples))\n",
    "\n",
    "        L[0] = L[1]\n",
    "        L[1] = calc_L(samples, means, sigmas, pi)\n",
    "        deltaL = L[1] - L[0]\n",
    "\n",
    "    return means, sigmas, gammas"
   ]
  },
  {
   "cell_type": "markdown",
   "metadata": {},
   "source": [
    "## EM classification"
   ]
  },
  {
   "cell_type": "code",
   "execution_count": 26,
   "metadata": {},
   "outputs": [],
   "source": [
    "# obtain first means\n",
    "# by calc the mean of 5 random\n",
    "# points in samples\n",
    "means, data = get_random_means(datasets[\"train\"])\n",
    "\n",
    "# obtain first sigmas\n",
    "# by calc the average of the sigma\n",
    "# of each class\n",
    "sigma = get_sigma(data)\n",
    "\n",
    "sigmas = np.array([sigma, sigma, sigma])\n",
    "pi = np.array([(1/3) for i in range(3)])\n",
    "\n",
    "means, sigmas, gammas = em(samples, means, sigmas, pi)\n",
    "\n",
    "print(len(means))\n",
    "print(len(sigmas))\n",
    "print(len(gammas))"
   ]
  }
 ],
 "metadata": {
  "kernelspec": {
   "display_name": "Python 3",
   "language": "python",
   "name": "python3"
  },
  "language_info": {
   "codemirror_mode": {
    "name": "ipython",
    "version": 3
   },
   "file_extension": ".py",
   "mimetype": "text/x-python",
   "name": "python",
   "nbconvert_exporter": "python",
   "pygments_lexer": "ipython3",
   "version": "3.6.8"
  }
 },
 "nbformat": 4,
 "nbformat_minor": 2
}
