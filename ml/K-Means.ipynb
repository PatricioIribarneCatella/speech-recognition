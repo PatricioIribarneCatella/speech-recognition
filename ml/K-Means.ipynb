{
 "cells": [
  {
   "cell_type": "code",
   "execution_count": 11,
   "metadata": {},
   "outputs": [],
   "source": [
    "import csv\n",
    "import random\n",
    "import numpy as np\n",
    "import matplotlib.pyplot as plt\n",
    "\n",
    "from numpy.linalg import eig, norm\n",
    "from scipy.linalg import inv\n",
    "\n",
    "%matplotlib notebook"
   ]
  },
  {
   "cell_type": "code",
   "execution_count": 10,
   "metadata": {},
   "outputs": [],
   "source": [
    "def ellipse(sigma, mean, scale=1):\n",
    "    \n",
    "    d, v = eig(inv(sigma))\n",
    "    mat = v @ inv(np.sqrt(np.diag(d)))\n",
    "\n",
    "    N = 200\n",
    "    t = np.arange(0, N) * (2*np.pi) / N\n",
    "\n",
    "    Y1 = scale * np.cos(t)\n",
    "    Y2 = scale * np.sin(t)\n",
    "   \n",
    "    Y = np.array([Y1, Y2])\n",
    "\n",
    "    X = mat.dot(Y)\n",
    "\n",
    "    X1 = X[0]\n",
    "    X2 = X[1]\n",
    "\n",
    "    # move ellipse to mean_k\n",
    "    X1 = X1 + mean[0]\n",
    "    X2 = X2 + mean[1]\n",
    "    \n",
    "    return X1, X2"
   ]
  },
  {
   "cell_type": "code",
   "execution_count": 9,
   "metadata": {},
   "outputs": [],
   "source": [
    "def plot(samples, parameters):\n",
    "\n",
    "    sam_a = samples[\"a\"]\n",
    "    sam_o = samples[\"o\"]\n",
    "    sam_u = samples[\"u\"]\n",
    "\n",
    "    data = (sam_a.T, sam_o.T, sam_u.T)\n",
    "    colors = (\"red\", \"green\", \"blue\")\n",
    "    groups = (\"a\", \"o\", \"u\")\n",
    "    scales = (2, 2, 2)\n",
    "\n",
    "    # Create plot\n",
    "    fig = plt.figure()\n",
    "    ax = fig.add_subplot(1, 1, 1)\n",
    "\n",
    "    for data, color, group in zip(data, colors, groups):\n",
    "        x, y = data\n",
    "        ax.scatter(x, y, alpha=0.8, c=color, edgecolors='none', s=30, label=group)\n",
    "\n",
    "    for color, group, scale in zip(colors, groups, scales):\n",
    "        X1, X2 = ellipse(parameters[\"sigma\"][group], parameters[\"mean\"][group], scale=scale)\n",
    "        ax.plot(X1, X2, c=color)\n",
    "    \n",
    "    plt.title('A,O,U')\n",
    "    plt.legend(loc=2)\n",
    "    plt.show()"
   ]
  },
  {
   "cell_type": "code",
   "execution_count": 8,
   "metadata": {},
   "outputs": [],
   "source": [
    "def get_means(train_a, train_o, train_u):\n",
    "\n",
    "    points_a = [train_a[random.randrange(0, len(train_a))] for i in range(5)]\n",
    "    points_o = [train_o[random.randrange(0, len(train_o))] for i in range(5)]\n",
    "    points_u = [train_u[random.randrange(0, len(train_u))] for i in range(5)]\n",
    "    \n",
    "    return np.array([np.mean(points_a), np.mean(points_o), np.mean(points_u)])"
   ]
  },
  {
   "cell_type": "code",
   "execution_count": 42,
   "metadata": {},
   "outputs": [
    {
     "ename": "SyntaxError",
     "evalue": "invalid syntax (<ipython-input-42-b9d0017856af>, line 6)",
     "output_type": "error",
     "traceback": [
      "\u001b[0;36m  File \u001b[0;32m\"<ipython-input-42-b9d0017856af>\"\u001b[0;36m, line \u001b[0;32m6\u001b[0m\n\u001b[0;31m    d = norm(samples[i] - means[int(classes[i]])\u001b[0m\n\u001b[0m                                              ^\u001b[0m\n\u001b[0;31mSyntaxError\u001b[0m\u001b[0;31m:\u001b[0m invalid syntax\n"
     ]
    }
   ],
   "source": [
    "def calc_dist(samples, classes, means):\n",
    "    \n",
    "    dist = 0.0\n",
    "    \n",
    "    for i in range(len(samples)):\n",
    "        d = norm(samples[i] - means[int(classes[i]])\n",
    "        dist += d\n",
    "    \n",
    "    return dist"
   ]
  },
  {
   "cell_type": "code",
   "execution_count": 40,
   "metadata": {},
   "outputs": [],
   "source": [
    "def k_means(samples, means):\n",
    "    \n",
    "    classes = np.zeros(len(samples))\n",
    "    dist = np.zeros(2)\n",
    "    \n",
    "    dist[0] = 0.0\n",
    "    dist[1] = 1E6\n",
    "    \n",
    "    while abs(dist[1] - dist[0]) > 0.01:\n",
    "    \n",
    "        # calculate distance from every point\n",
    "        # to the centroids (a.k.a means) and find a class for\n",
    "        # each point\n",
    "        for i in range(len(samples)):\n",
    "            norms = [(norm(samples[i]-means[k]), k) for k in range(3)]\n",
    "            n, k = min(norms, key=lambda x: x[0])\n",
    "            classes[i] = k\n",
    "\n",
    "        # calculate the new values for the\n",
    "        # centroids (a.k.a means)\n",
    "        for k in range(3):\n",
    "            points_with_class_k = list(map(lambda y: y[0], filter(lambda x: x[1] == k, zip(samples, classes))))\n",
    "            mean_k = np.mean(points_with_class_k)\n",
    "            means[k] = mean_k\n",
    "        \n",
    "        # calculate distorsion\n",
    "        dist[0] = dist[1]\n",
    "        dist[1] = calc_dist(samples, classes, means)\n",
    "\n",
    "    return means, classes"
   ]
  },
  {
   "cell_type": "code",
   "execution_count": 38,
   "metadata": {},
   "outputs": [],
   "source": [
    "def main():\n",
    "\n",
    "    # parse data\n",
    "    with open('a.txt') as f:\n",
    "        lines_a = list(csv.reader(f, delimiter='\\t'))\n",
    "\n",
    "    with open('o.txt') as f:\n",
    "        lines_o = list(csv.reader(f, delimiter='\\t'))\n",
    "\n",
    "    with open('u.txt') as f:\n",
    "        lines_u = list(csv.reader(f, delimiter='\\t'))\n",
    "\n",
    "    lines_a = list(map(lambda x: [int(x[0]), int(x[1])],lines_a))\n",
    "    lines_o = list(map(lambda x: [int(x[0]), int(x[1])],lines_o))\n",
    "    lines_u = list(map(lambda x: [int(x[0]), int(x[1])],lines_u))\n",
    "\n",
    "    # separate 'train' and 'test' datasets\n",
    "    train_a = np.array(lines_a[:34])\n",
    "    test_a = np.array(lines_a[35:])\n",
    "    \n",
    "    train_o = np.array(lines_o[:34])\n",
    "    test_o = np.array(lines_o[35:])\n",
    "    \n",
    "    train_u = np.array(lines_u[:34])\n",
    "    test_u = np.array(lines_u[35:])\n",
    "    \n",
    "    # plot\n",
    "    samples = np.array(list(train_a) + list(train_o) + list(train_u))\n",
    "    \n",
    "    # obtain first means\n",
    "    # by calc the mean of 5 random\n",
    "    # points in samples\n",
    "    means = get_means(train_a, train_o, train_u)\n",
    "    \n",
    "    print(means)\n",
    "    means, classes = k_means(samples, means)\n",
    "    print(means)\n",
    "    print(classes)"
   ]
  },
  {
   "cell_type": "code",
   "execution_count": 41,
   "metadata": {},
   "outputs": [
    {
     "name": "stdout",
     "output_type": "stream",
     "text": [
      "[ 1054.   686.   631.]\n"
     ]
    },
    {
     "ename": "IndexError",
     "evalue": "only integers, slices (`:`), ellipsis (`...`), numpy.newaxis (`None`) and integer or boolean arrays are valid indices",
     "output_type": "error",
     "traceback": [
      "\u001b[0;31m---------------------------------------------------------------------------\u001b[0m",
      "\u001b[0;31mIndexError\u001b[0m                                Traceback (most recent call last)",
      "\u001b[0;32m<ipython-input-41-263240bbee7e>\u001b[0m in \u001b[0;36m<module>\u001b[0;34m()\u001b[0m\n\u001b[0;32m----> 1\u001b[0;31m \u001b[0mmain\u001b[0m\u001b[0;34m(\u001b[0m\u001b[0;34m)\u001b[0m\u001b[0;34m\u001b[0m\u001b[0;34m\u001b[0m\u001b[0m\n\u001b[0m",
      "\u001b[0;32m<ipython-input-38-dadb1844a337>\u001b[0m in \u001b[0;36mmain\u001b[0;34m()\u001b[0m\n\u001b[1;32m     34\u001b[0m \u001b[0;34m\u001b[0m\u001b[0m\n\u001b[1;32m     35\u001b[0m     \u001b[0mprint\u001b[0m\u001b[0;34m(\u001b[0m\u001b[0mmeans\u001b[0m\u001b[0;34m)\u001b[0m\u001b[0;34m\u001b[0m\u001b[0;34m\u001b[0m\u001b[0m\n\u001b[0;32m---> 36\u001b[0;31m     \u001b[0mmeans\u001b[0m\u001b[0;34m,\u001b[0m \u001b[0mclasses\u001b[0m \u001b[0;34m=\u001b[0m \u001b[0mk_means\u001b[0m\u001b[0;34m(\u001b[0m\u001b[0msamples\u001b[0m\u001b[0;34m,\u001b[0m \u001b[0mmeans\u001b[0m\u001b[0;34m)\u001b[0m\u001b[0;34m\u001b[0m\u001b[0;34m\u001b[0m\u001b[0m\n\u001b[0m\u001b[1;32m     37\u001b[0m     \u001b[0mprint\u001b[0m\u001b[0;34m(\u001b[0m\u001b[0mmeans\u001b[0m\u001b[0;34m)\u001b[0m\u001b[0;34m\u001b[0m\u001b[0;34m\u001b[0m\u001b[0m\n\u001b[1;32m     38\u001b[0m     \u001b[0mprint\u001b[0m\u001b[0;34m(\u001b[0m\u001b[0mclasses\u001b[0m\u001b[0;34m)\u001b[0m\u001b[0;34m\u001b[0m\u001b[0;34m\u001b[0m\u001b[0m\n",
      "\u001b[0;32m<ipython-input-40-f44be5980665>\u001b[0m in \u001b[0;36mk_means\u001b[0;34m(samples, means)\u001b[0m\n\u001b[1;32m     26\u001b[0m         \u001b[0;31m# calculate distorsion\u001b[0m\u001b[0;34m\u001b[0m\u001b[0;34m\u001b[0m\u001b[0;34m\u001b[0m\u001b[0m\n\u001b[1;32m     27\u001b[0m         \u001b[0mdist\u001b[0m\u001b[0;34m[\u001b[0m\u001b[0;36m0\u001b[0m\u001b[0;34m]\u001b[0m \u001b[0;34m=\u001b[0m \u001b[0mdist\u001b[0m\u001b[0;34m[\u001b[0m\u001b[0;36m1\u001b[0m\u001b[0;34m]\u001b[0m\u001b[0;34m\u001b[0m\u001b[0;34m\u001b[0m\u001b[0m\n\u001b[0;32m---> 28\u001b[0;31m         \u001b[0mdist\u001b[0m\u001b[0;34m[\u001b[0m\u001b[0;36m1\u001b[0m\u001b[0;34m]\u001b[0m \u001b[0;34m=\u001b[0m \u001b[0mcalc_dist\u001b[0m\u001b[0;34m(\u001b[0m\u001b[0msamples\u001b[0m\u001b[0;34m,\u001b[0m \u001b[0mclasses\u001b[0m\u001b[0;34m,\u001b[0m \u001b[0mmeans\u001b[0m\u001b[0;34m)\u001b[0m\u001b[0;34m\u001b[0m\u001b[0;34m\u001b[0m\u001b[0m\n\u001b[0m\u001b[1;32m     29\u001b[0m \u001b[0;34m\u001b[0m\u001b[0m\n\u001b[1;32m     30\u001b[0m     \u001b[0;32mreturn\u001b[0m \u001b[0mmeans\u001b[0m\u001b[0;34m,\u001b[0m \u001b[0mclasses\u001b[0m\u001b[0;34m\u001b[0m\u001b[0;34m\u001b[0m\u001b[0m\n",
      "\u001b[0;32m<ipython-input-36-b62300371763>\u001b[0m in \u001b[0;36mcalc_dist\u001b[0;34m(samples, classes, means)\u001b[0m\n\u001b[1;32m      4\u001b[0m \u001b[0;34m\u001b[0m\u001b[0m\n\u001b[1;32m      5\u001b[0m     \u001b[0;32mfor\u001b[0m \u001b[0mi\u001b[0m \u001b[0;32min\u001b[0m \u001b[0mrange\u001b[0m\u001b[0;34m(\u001b[0m\u001b[0mlen\u001b[0m\u001b[0;34m(\u001b[0m\u001b[0msamples\u001b[0m\u001b[0;34m)\u001b[0m\u001b[0;34m)\u001b[0m\u001b[0;34m:\u001b[0m\u001b[0;34m\u001b[0m\u001b[0;34m\u001b[0m\u001b[0m\n\u001b[0;32m----> 6\u001b[0;31m         \u001b[0md\u001b[0m \u001b[0;34m=\u001b[0m \u001b[0mnorm\u001b[0m\u001b[0;34m(\u001b[0m\u001b[0msamples\u001b[0m\u001b[0;34m[\u001b[0m\u001b[0mi\u001b[0m\u001b[0;34m]\u001b[0m \u001b[0;34m-\u001b[0m \u001b[0mmeans\u001b[0m\u001b[0;34m[\u001b[0m\u001b[0mclasses\u001b[0m\u001b[0;34m[\u001b[0m\u001b[0mi\u001b[0m\u001b[0;34m]\u001b[0m\u001b[0;34m]\u001b[0m\u001b[0;34m)\u001b[0m\u001b[0;34m\u001b[0m\u001b[0;34m\u001b[0m\u001b[0m\n\u001b[0m\u001b[1;32m      7\u001b[0m         \u001b[0mdist\u001b[0m \u001b[0;34m+=\u001b[0m \u001b[0md\u001b[0m\u001b[0;34m\u001b[0m\u001b[0;34m\u001b[0m\u001b[0m\n\u001b[1;32m      8\u001b[0m \u001b[0;34m\u001b[0m\u001b[0m\n",
      "\u001b[0;31mIndexError\u001b[0m: only integers, slices (`:`), ellipsis (`...`), numpy.newaxis (`None`) and integer or boolean arrays are valid indices"
     ]
    }
   ],
   "source": [
    "main()"
   ]
  }
 ],
 "metadata": {
  "kernelspec": {
   "display_name": "Python 3",
   "language": "python",
   "name": "python3"
  },
  "language_info": {
   "codemirror_mode": {
    "name": "ipython",
    "version": 3
   },
   "file_extension": ".py",
   "mimetype": "text/x-python",
   "name": "python",
   "nbconvert_exporter": "python",
   "pygments_lexer": "ipython3",
   "version": "3.6.8"
  }
 },
 "nbformat": 4,
 "nbformat_minor": 2
}
