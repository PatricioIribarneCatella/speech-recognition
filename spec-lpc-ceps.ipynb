{
 "cells": [
  {
   "cell_type": "markdown",
   "metadata": {},
   "source": [
    "# _Spectrogram_, _Cepstrogram_ y _LPCtrogram_"
   ]
  },
  {
   "cell_type": "markdown",
   "metadata": {},
   "source": [
    "Procesamiento del Habla (66.46) - FIUBA"
   ]
  },
  {
   "cell_type": "markdown",
   "metadata": {},
   "source": [
    "### Librerías usadas"
   ]
  },
  {
   "cell_type": "code",
   "execution_count": 14,
   "metadata": {},
   "outputs": [],
   "source": [
    "import numpy as np\n",
    "\n",
    "from matplotlib import pyplot as plt\n",
    "\n",
    "from scipy.io.wavfile import read as wavread, write as wavwrite\n",
    "from scipy.signal import spectrogram, freqz, lfilter\n",
    "from scipy.linalg import toeplitz, inv"
   ]
  },
  {
   "cell_type": "markdown",
   "metadata": {},
   "source": [
    "### Funciones auxiliares"
   ]
  },
  {
   "cell_type": "code",
   "execution_count": 17,
   "metadata": {},
   "outputs": [],
   "source": [
    "# loads a WAV file\n",
    "def load(path):\n",
    "    \n",
    "    Fs, x = wavread(path)\n",
    "\n",
    "    if x.dtype == 'int16':\n",
    "        nb_bits = np.float(16)\n",
    "        x = x / 2**(nb_bits-1)\n",
    "    elif x.dtype == 'int32':\n",
    "        nb_bits = np.float(32)\n",
    "        x = x / 2**(nb_bits-1)\n",
    "    elif x.dtype == 'uint8':\n",
    "        x = x / 2**8\n",
    "\n",
    "    x = x.astype(np.float64)\n",
    "\n",
    "    return Fs, x\n",
    "\n",
    "# computes the FFT\n",
    "def fft(x, nfft=None):\n",
    "    return np.fft.fft(x, len(x) if nfft is None else nfft)\n",
    "\n",
    "# computes the IFFT\n",
    "def ifft(x):\n",
    "    return np.fft.ifft(x)\n",
    "\n",
    "# plot x-trogram\n",
    "def plot_xtrogram(t, f, Sxx, title, name):\n",
    "\n",
    "    fig = plt.figure()\n",
    "    ax = fig.add_subplot(1,1,1)\n",
    "\n",
    "    fig.suptitle(title)\n",
    "    ax.pcolormesh(t, f, np.log(np.abs(Sxx)))\n",
    "    ax.set(xlabel='Time [s]', ylabel='Frequecy [Hz]')\n",
    "    ax.plot()\n",
    "    \n",
    "    plt.show()\n",
    "    plt.savefig(\"{}.png\".format(name))"
   ]
  },
  {
   "cell_type": "markdown",
   "metadata": {},
   "source": [
    "### _Plotting_"
   ]
  },
  {
   "cell_type": "code",
   "execution_count": 18,
   "metadata": {},
   "outputs": [],
   "source": [
    "def plot_spectrogram(x, Fs):\n",
    "    \n",
    "    n_perseg = int(0.025 * Fs)\n",
    "    window = 'hanning'\n",
    "    detrend='constant'\n",
    "    return_onesided=True,\n",
    "    scaling='density'\n",
    "    axis=-1\n",
    "    mode='psd'\n",
    "    nfft = n_perseg * 8\n",
    "\n",
    "    f, t, Sxx = spectrogram(x, window=window, fs=Fs,\n",
    "                            nperseg=n_perseg, noverlap=n_overlap, nfft=Nfft,\n",
    "                            detrend=detrend, return_onesided=return_onesided,\n",
    "                            scaling=scaling, axis=axis, mode=mode)\n",
    "    \n",
    "    plot_xtrogram(t, f, Sxx)"
   ]
  },
  {
   "cell_type": "code",
   "execution_count": null,
   "metadata": {},
   "outputs": [],
   "source": [
    "def plot_cepstrogram(x, Fs):\n",
    "    \n",
    "    H_mat = cepstrogram(x, Fs)\n",
    "        \n",
    "    NF, NT = H_mat.shape\n",
    "\n",
    "    f = np.arange(NF) * Fs / NF\n",
    "    t = np.arange(NT) * 0.010\n",
    "    \n",
    "    plot_xtrogram(t, f, H_mat)"
   ]
  },
  {
   "cell_type": "code",
   "execution_count": null,
   "metadata": {},
   "outputs": [],
   "source": []
  },
  {
   "cell_type": "code",
   "execution_count": null,
   "metadata": {},
   "outputs": [],
   "source": []
  },
  {
   "cell_type": "code",
   "execution_count": null,
   "metadata": {},
   "outputs": [],
   "source": []
  },
  {
   "cell_type": "code",
   "execution_count": null,
   "metadata": {},
   "outputs": [],
   "source": []
  },
  {
   "cell_type": "code",
   "execution_count": 12,
   "metadata": {},
   "outputs": [],
   "source": [
    "fs, x = load(\"./waves/fantasia.wav\")"
   ]
  },
  {
   "cell_type": "code",
   "execution_count": null,
   "metadata": {},
   "outputs": [],
   "source": []
  }
 ],
 "metadata": {
  "kernelspec": {
   "display_name": "Python 3",
   "language": "python",
   "name": "python3"
  },
  "language_info": {
   "codemirror_mode": {
    "name": "ipython",
    "version": 3
   },
   "file_extension": ".py",
   "mimetype": "text/x-python",
   "name": "python",
   "nbconvert_exporter": "python",
   "pygments_lexer": "ipython3",
   "version": "3.6.8"
  }
 },
 "nbformat": 4,
 "nbformat_minor": 2
}
